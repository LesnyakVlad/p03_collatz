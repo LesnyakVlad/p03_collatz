{
 "cells": [
  {
   "cell_type": "code",
   "execution_count": null,
   "metadata": {},
   "outputs": [],
   "source": [
    "from tqdm import tqdm\n",
    "\n",
    "\n",
    "def collatz(n):\n",
    "    return (n / 2) if n % 2 == 0 else 3 * n + 1\n",
    "\n",
    "\n",
    "def check(n):\n",
    "    while n != 1:\n",
    "        n = collatz(n)\n",
    "\n",
    "\n",
    "for i in tqdm(range(1000000)):\n",
    "    check(i)"
   ]
  }
 ],
 "metadata": {
  "kernelspec": {
   "display_name": "Python 3",
   "language": "python",
   "name": "python3"
  },
  "language_info": {
   "codemirror_mode": {
    "name": "ipython",
    "version": 3
   },
   "file_extension": ".py",
   "mimetype": "text/x-python",
   "name": "python",
   "nbconvert_exporter": "python",
   "pygments_lexer": "ipython3",
   "version": "3.8.3"
  }
 },
 "nbformat": 4,
 "nbformat_minor": 4
}
