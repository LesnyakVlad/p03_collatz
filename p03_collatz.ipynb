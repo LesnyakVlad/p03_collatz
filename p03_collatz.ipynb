{
 "cells": [
  {
   "cell_type": "markdown",
   "metadata": {},
   "source": [
    "# Гипотеза Коллатца\n",
    "* Описание [здесь](https://en.wikipedia.org/wiki/Collatz_conjecture).\n",
    "* Задание -- проверить гипотезу для всех n до 1000000.\n",
    "* Указание 1: ответы оформлять на github. Учитесь пользоваться контролем версий.\n",
    "* Указание 2: к функциям писать документацию, в т.ч. добавлять комментарии.\n",
    "* Указание 3: засечь время работы скрипта. Для этого можно использовать ipython-магию."
   ]
  },
  {
   "cell_type": "code",
   "execution_count": null,
   "metadata": {},
   "outputs": [],
   "source": []
  }
 ],
 "metadata": {
  "kernelspec": {
   "display_name": "Python 3",
   "language": "python",
   "name": "python3"
  },
  "language_info": {
   "codemirror_mode": {
    "name": "ipython",
    "version": 3
   },
   "file_extension": ".py",
   "mimetype": "text/x-python",
   "name": "python",
   "nbconvert_exporter": "python",
   "pygments_lexer": "ipython3",
   "version": "3.8.5"
  }
 },
 "nbformat": 4,
 "nbformat_minor": 4
}
